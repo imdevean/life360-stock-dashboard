{
 "cells": [
  {
   "cell_type": "code",
   "execution_count": 12,
   "id": "2e597fd3",
   "metadata": {},
   "outputs": [],
   "source": [
    "import yfinance as yf\n",
    "import pandas as pd\n",
    "from datetime import datetime, timedelta\n",
    "import plotly.graph_objects as go\n",
    "\n",
    "\n"
   ]
  },
  {
   "cell_type": "code",
   "execution_count": null,
   "id": "692af473",
   "metadata": {},
   "outputs": [
    {
     "name": "stdout",
     "output_type": "stream",
     "text": [
      "Current Price: $97.68\n",
      "Change: -0.19%\n"
     ]
    }
   ],
   "source": [
    "# Use the U.S. ticker FOR LIFE 360 INC (LIF)\n",
    "# FIND DAILY PRICE AND PERCENT CHANGE\n",
    "ticker = yf.Ticker(\"LIF\")\n",
    "\n",
    "info = ticker.info\n",
    "current_price = info.get(\"currentPrice\")\n",
    "previous_close = info.get(\"previousClose\")\n",
    "percent_change = ((current_price - previous_close) / previous_close) * 100\n",
    "\n",
    "print(f\"Current Price: ${current_price:.2f}\")\n",
    "print(f\"Change: {percent_change:.2f}%\")"
   ]
  },
  {
   "cell_type": "code",
   "execution_count": 9,
   "id": "842aa28e",
   "metadata": {},
   "outputs": [
    {
     "data": {
      "text/html": [
       "<div>\n",
       "<style scoped>\n",
       "    .dataframe tbody tr th:only-of-type {\n",
       "        vertical-align: middle;\n",
       "    }\n",
       "\n",
       "    .dataframe tbody tr th {\n",
       "        vertical-align: top;\n",
       "    }\n",
       "\n",
       "    .dataframe thead th {\n",
       "        text-align: right;\n",
       "    }\n",
       "</style>\n",
       "<table border=\"1\" class=\"dataframe\">\n",
       "  <thead>\n",
       "    <tr style=\"text-align: right;\">\n",
       "      <th></th>\n",
       "      <th>Market Cap</th>\n",
       "      <th>P/E Ratio</th>\n",
       "      <th>EPS (TTM)</th>\n",
       "      <th>Revenue (TTM)</th>\n",
       "      <th>Last Updated</th>\n",
       "    </tr>\n",
       "  </thead>\n",
       "  <tbody>\n",
       "    <tr>\n",
       "      <th>Life360</th>\n",
       "      <td>7574680576</td>\n",
       "      <td>257.04343</td>\n",
       "      <td>0.38</td>\n",
       "      <td>427399008</td>\n",
       "      <td>2025-10-28 11:39:57</td>\n",
       "    </tr>\n",
       "  </tbody>\n",
       "</table>\n",
       "</div>"
      ],
      "text/plain": [
       "         Market Cap  P/E Ratio  EPS (TTM)  Revenue (TTM)         Last Updated\n",
       "Life360  7574680576  257.04343       0.38      427399008  2025-10-28 11:39:57"
      ]
     },
     "metadata": {},
     "output_type": "display_data"
    }
   ],
   "source": [
    "# Extract key metrics\n",
    "metrics = {\n",
    "    \"Market Cap\": info.get(\"marketCap\"),\n",
    "    \"P/E Ratio\": info.get(\"trailingPE\"),\n",
    "    \"EPS (TTM)\": info.get(\"trailingEps\"),\n",
    "    \"Revenue (TTM)\": info.get(\"totalRevenue\"),\n",
    "    \"Last Updated\": datetime.now().strftime(\"%Y-%m-%d %H:%M:%S\")\n",
    "}\n",
    "\n",
    "df_metrics = pd.DataFrame(metrics, index=[\"Life360\"])\n",
    "display(df_metrics)"
   ]
  },
  {
   "cell_type": "code",
   "execution_count": null,
   "id": "768e23cc",
   "metadata": {},
   "outputs": [
    {
     "data": {
      "text/html": [
       "<div>\n",
       "<style scoped>\n",
       "    .dataframe tbody tr th:only-of-type {\n",
       "        vertical-align: middle;\n",
       "    }\n",
       "\n",
       "    .dataframe tbody tr th {\n",
       "        vertical-align: top;\n",
       "    }\n",
       "\n",
       "    .dataframe thead th {\n",
       "        text-align: right;\n",
       "    }\n",
       "</style>\n",
       "<table border=\"1\" class=\"dataframe\">\n",
       "  <thead>\n",
       "    <tr style=\"text-align: right;\">\n",
       "      <th></th>\n",
       "      <th>Metric</th>\n",
       "      <th>Value</th>\n",
       "    </tr>\n",
       "  </thead>\n",
       "  <tbody>\n",
       "    <tr>\n",
       "      <th>0</th>\n",
       "      <td>52-Week High</td>\n",
       "      <td>$112.54</td>\n",
       "    </tr>\n",
       "    <tr>\n",
       "      <th>1</th>\n",
       "      <td>52-Week Low</td>\n",
       "      <td>$29.62</td>\n",
       "    </tr>\n",
       "    <tr>\n",
       "      <th>2</th>\n",
       "      <td>YTD Performance</td>\n",
       "      <td>133.31%</td>\n",
       "    </tr>\n",
       "  </tbody>\n",
       "</table>\n",
       "</div>"
      ],
      "text/plain": [
       "            Metric    Value\n",
       "0     52-Week High  $112.54\n",
       "1      52-Week Low   $29.62\n",
       "2  YTD Performance  133.31%"
      ]
     },
     "metadata": {},
     "output_type": "display_data"
    }
   ],
   "source": [
    "#YTD PERFORMANCE DATA\n",
    "# Get 1 year of daily data\n",
    "hist = ticker.history(period=\"1y\")\n",
    "\n",
    "# 52-week stats\n",
    "high_52 = hist[\"High\"].max()\n",
    "low_52 = hist[\"Low\"].min()\n",
    "\n",
    "# YTD performance\n",
    "start_of_year = pd.Timestamp(datetime(datetime.now().year, 1, 1), tz='UTC')\n",
    "ytd_data = hist.loc[hist.index >= pd.to_datetime(start_of_year)]\n",
    "if not ytd_data.empty:\n",
    "    start_price = ytd_data[\"Close\"].iloc[0]\n",
    "    current_price = ytd_data[\"Close\"].iloc[-1]\n",
    "    ytd_change = ((current_price - start_price) / start_price) * 100\n",
    "else:\n",
    "    ytd_change = None\n",
    "\n",
    "df_ytd = pd.DataFrame({\n",
    "    \"Metric\": [\"52-Week High\", \"52-Week Low\", \"YTD Performance\"],\n",
    "    \"Value\": [\n",
    "        f\"${high_52:.2f}\",\n",
    "        f\"${low_52:.2f}\",\n",
    "        f\"{ytd_change:.2f}%\" if ytd_change else \"N/A\"\n",
    "    ]\n",
    "})\n",
    "\n",
    "display(df_ytd)\n",
    "\n"
   ]
  },
  {
   "cell_type": "code",
   "execution_count": null,
   "id": "95a1a364",
   "metadata": {},
   "outputs": [],
   "source": [
    "# Stock Price Chart\n",
    "# Do we include this here or straight in Tableau?"
   ]
  }
 ],
 "metadata": {
  "kernelspec": {
   "display_name": "venv",
   "language": "python",
   "name": "python3"
  },
  "language_info": {
   "codemirror_mode": {
    "name": "ipython",
    "version": 3
   },
   "file_extension": ".py",
   "mimetype": "text/x-python",
   "name": "python",
   "nbconvert_exporter": "python",
   "pygments_lexer": "ipython3",
   "version": "3.11.4"
  }
 },
 "nbformat": 4,
 "nbformat_minor": 5
}
